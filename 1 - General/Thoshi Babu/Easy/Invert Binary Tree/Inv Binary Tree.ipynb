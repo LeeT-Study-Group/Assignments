{
 "cells": [
  {
   "cell_type": "markdown",
   "source": [
    "## Invert Binary Tree\n",
    "## status - Solved saw the prev tree q and solved "
   ],
   "metadata": {
    "collapsed": false
   },
   "id": "531b632994936a36"
  },
  {
   "cell_type": "code",
   "outputs": [],
   "source": [
    "class Solution:\n",
    "    def invertTree(self, root: Optional[TreeNode]) -> Optional[TreeNode]:\n",
    "        if root:\n",
    "            left=root.left\n",
    "            root.left=self.invertTree(root.right)\n",
    "            root.right=self.invertTree(left)\n",
    "        return root"
   ],
   "metadata": {
    "collapsed": false
   },
   "id": "840465b5ce58787d"
  }
 ],
 "metadata": {
  "kernelspec": {
   "display_name": "Python 3",
   "language": "python",
   "name": "python3"
  },
  "language_info": {
   "codemirror_mode": {
    "name": "ipython",
    "version": 2
   },
   "file_extension": ".py",
   "mimetype": "text/x-python",
   "name": "python",
   "nbconvert_exporter": "python",
   "pygments_lexer": "ipython2",
   "version": "2.7.6"
  }
 },
 "nbformat": 4,
 "nbformat_minor": 5
}
