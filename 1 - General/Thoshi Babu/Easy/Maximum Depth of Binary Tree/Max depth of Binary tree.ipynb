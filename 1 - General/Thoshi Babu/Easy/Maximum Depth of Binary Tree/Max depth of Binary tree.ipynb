{
 "cells": [
  {
   "cell_type": "markdown",
   "source": [
    "## Max depth \n",
    "### Status - Solved - Used brute force assumed the tree as array and solved later understood the correct approach "
   ],
   "metadata": {
    "collapsed": false
   },
   "id": "d106cd944762c84f"
  },
  {
   "cell_type": "markdown",
   "source": [
    "## Funny incorrect way to solve taking as array ! Haha "
   ],
   "metadata": {
    "collapsed": false
   },
   "id": "90f90e3f6258d16d"
  },
  {
   "cell_type": "code",
   "outputs": [
    {
     "name": "stdout",
     "output_type": "stream",
     "text": [
      "[3, 9, 15]\n"
     ]
    },
    {
     "data": {
      "text/plain": "3"
     },
     "execution_count": 18,
     "metadata": {},
     "output_type": "execute_result"
    }
   ],
   "source": [
    "def maxDepth( root) -> int:\n",
    "    left=[root[0]]\n",
    "    right=[]\n",
    "    for i in range(len(root)):\n",
    "   \n",
    "            if i%2==0:\n",
    "                if root[i]!='null':\n",
    "                   right.append(root[i])\n",
    "            else:\n",
    "                if root[i]!='null':\n",
    "                     left.append(root[i])\n",
    "    print(left)\n",
    "    return max(len(left),len(right))\n",
    "maxDepth(root = [3,9,20,'null','null',15,7])\n"
   ],
   "metadata": {
    "collapsed": false,
    "ExecuteTime": {
     "end_time": "2024-06-25T07:39:44.867494Z",
     "start_time": "2024-06-25T07:39:44.842561400Z"
    }
   },
   "id": "af1f5deaaadc7f59",
   "execution_count": 18
  },
  {
   "cell_type": "markdown",
   "source": [
    "## Referred ,understood and then solved without seeing"
   ],
   "metadata": {
    "collapsed": false
   },
   "id": "d9e03726b04b70f8"
  },
  {
   "cell_type": "code",
   "outputs": [],
   "source": [
    "class Solution:\n",
    "    def maxDepth(self, root) -> int:\n",
    "        if not root :\n",
    "            return 0\n",
    "        else:\n",
    "            return 1 + max(self.maxDepth(root.left),self.maxDepth(root.right))"
   ],
   "metadata": {
    "collapsed": false,
    "ExecuteTime": {
     "end_time": "2024-06-25T08:10:40.847645600Z",
     "start_time": "2024-06-25T08:10:40.826574800Z"
    }
   },
   "id": "20dfb6fb0d10dbc6",
   "execution_count": 22
  },
  {
   "cell_type": "code",
   "outputs": [],
   "source": [],
   "metadata": {
    "collapsed": false,
    "ExecuteTime": {
     "end_time": "2024-06-25T08:11:45.824352900Z",
     "start_time": "2024-06-25T08:11:45.785239100Z"
    }
   },
   "id": "5bbe3e1d9736b082",
   "execution_count": 22
  },
  {
   "cell_type": "code",
   "outputs": [],
   "source": [],
   "metadata": {
    "collapsed": false
   },
   "id": "ae7704a33a918c2f"
  }
 ],
 "metadata": {
  "kernelspec": {
   "display_name": "Python 3",
   "language": "python",
   "name": "python3"
  },
  "language_info": {
   "codemirror_mode": {
    "name": "ipython",
    "version": 2
   },
   "file_extension": ".py",
   "mimetype": "text/x-python",
   "name": "python",
   "nbconvert_exporter": "python",
   "pygments_lexer": "ipython2",
   "version": "2.7.6"
  }
 },
 "nbformat": 4,
 "nbformat_minor": 5
}
