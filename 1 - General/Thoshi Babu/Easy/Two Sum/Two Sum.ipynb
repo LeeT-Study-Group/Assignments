{
 "cells": [
  {
   "cell_type": "markdown",
   "source": [
    "## TWO SUM \n",
    "### Status - Solved - PASSED TEST CASES "
   ],
   "metadata": {
    "collapsed": false
   },
   "id": "a3540ba97432e5"
  },
  {
   "cell_type": "code",
   "outputs": [
    {
     "data": {
      "text/plain": "[0, 1]"
     },
     "execution_count": 1,
     "metadata": {},
     "output_type": "execute_result"
    }
   ],
   "source": [
    "# code \n",
    "def twoSum( nums, target) :\n",
    "    length=len(nums)\n",
    "    for i in range(length):\n",
    "       for j in range(i+1,length):\n",
    "           if nums[i]+nums[j]==target:\n",
    "                return [i,j]\n",
    "twoSum([2,7,11,15],9)\n"
   ],
   "metadata": {
    "collapsed": false,
    "ExecuteTime": {
     "end_time": "2024-06-25T07:04:46.718949600Z",
     "start_time": "2024-06-25T07:04:46.705307Z"
    }
   },
   "id": "59f887474cff4728",
   "execution_count": 1
  },
  {
   "cell_type": "code",
   "outputs": [],
   "source": [],
   "metadata": {
    "collapsed": false
   },
   "id": "f1bc8e075db6f2e8"
  }
 ],
 "metadata": {
  "kernelspec": {
   "display_name": "Python 3",
   "language": "python",
   "name": "python3"
  },
  "language_info": {
   "codemirror_mode": {
    "name": "ipython",
    "version": 2
   },
   "file_extension": ".py",
   "mimetype": "text/x-python",
   "name": "python",
   "nbconvert_exporter": "python",
   "pygments_lexer": "ipython2",
   "version": "2.7.6"
  }
 },
 "nbformat": 4,
 "nbformat_minor": 5
}
